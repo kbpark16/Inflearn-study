{
 "cells": [
  {
   "cell_type": "markdown",
   "metadata": {},
   "source": [
    "# 1. 데이터  형변환: str to int - Done"
   ]
  },
  {
   "cell_type": "code",
   "execution_count": 23,
   "metadata": {},
   "outputs": [],
   "source": [
    "# 데이터 형변환================================================\n",
    "def str_to_int(string_number):\n",
    "    # \"\"\"\n",
    "    #   Input:\n",
    "    # \t-string_number: 숫자형태의 문자열\n",
    "    # Output:\n",
    "    # \t-integer: 정수 값\n",
    "    # Examples:\n",
    "    # \t>>> str_to_int(\"3\")\n",
    "    # \t3\n",
    "    # \t>>> str_to_int(\"135\")\n",
    "    # \t135\n",
    "    # \"\"\"\n",
    "    # ===Modify codes below=================\n",
    "    result = int(string_number)\n",
    "\n",
    "    # ======================================\n",
    "\n",
    "    return result"
   ]
  },
  {
   "cell_type": "code",
   "execution_count": 24,
   "metadata": {},
   "outputs": [
    {
     "data": {
      "text/plain": [
       "135"
      ]
     },
     "execution_count": 24,
     "metadata": {},
     "output_type": "execute_result"
    }
   ],
   "source": [
    "str_to_int(\"135\")"
   ]
  },
  {
   "cell_type": "markdown",
   "metadata": {},
   "source": [
    "# 2. str_to float - Done"
   ]
  },
  {
   "cell_type": "code",
   "execution_count": 28,
   "metadata": {},
   "outputs": [],
   "source": [
    "def str_to_float(string_number):\n",
    "\n",
    "    # \"\"\"\n",
    "    #   Input:\n",
    "    # \t-string_number: 숫자형태의 문자열\n",
    "    # Output:\n",
    "    # \t-float: 소수를 가지는 수\n",
    "    # Examples:\n",
    "    # \t>>> str_to_float(\"3\")\n",
    "    # \t3.0\n",
    "    # \t>>> add_string_number(\"135.4567\")\n",
    "    # \t135.4567\n",
    "    # \"\"\"\n",
    "    # ===Modify codes below=================\n",
    "    result = float(string_number)\n",
    "\n",
    "    # ======================================\n",
    "\n",
    "    return result"
   ]
  },
  {
   "cell_type": "code",
   "execution_count": 29,
   "metadata": {},
   "outputs": [
    {
     "data": {
      "text/plain": [
       "135.4567"
      ]
     },
     "execution_count": 29,
     "metadata": {},
     "output_type": "execute_result"
    }
   ],
   "source": [
    "str_to_float(\"135.4567\")"
   ]
  },
  {
   "cell_type": "markdown",
   "metadata": {},
   "source": [
    "# 3. number to str - Done"
   ]
  },
  {
   "cell_type": "code",
   "execution_count": 33,
   "metadata": {},
   "outputs": [],
   "source": [
    "def number_to_str(float_number):\n",
    "\n",
    "    # \"\"\"\n",
    "    # Input:\n",
    "    # \t-number: 실수 값\n",
    "    # Output:\n",
    "    # \t-string: 문자열\n",
    "    # Examples:\n",
    "    # \t>>> number_t0_str(3)\n",
    "    # \t\"3\"\n",
    "    #   ※ 파이썬 쉘에선 저렇게 출력되는데 리눅스 쉘에서 .py를 실행시키면 3으로 출력됨\n",
    "    # \t>>> number_to_str(-3.456)\n",
    "    # \t\"-3.456\"\n",
    "    # \"\"\"\n",
    "    # ===Modify codes below=================\n",
    "    result = str(float_number)\n",
    "\n",
    "    # ======================================\n",
    "\n",
    "    return result"
   ]
  },
  {
   "cell_type": "code",
   "execution_count": 34,
   "metadata": {},
   "outputs": [
    {
     "data": {
      "text/plain": [
       "'-3.456'"
      ]
     },
     "execution_count": 34,
     "metadata": {},
     "output_type": "execute_result"
    }
   ],
   "source": [
    "number_to_str(-3.456)"
   ]
  },
  {
   "cell_type": "markdown",
   "metadata": {},
   "source": [
    "# 4. integer와 string 더하기 - Done"
   ]
  },
  {
   "cell_type": "code",
   "execution_count": 38,
   "metadata": {},
   "outputs": [],
   "source": [
    "def add_string_number(string, float_number):\n",
    "    # \"\"\"\n",
    "    # Input:\n",
    "    # \t-string: 문자열\n",
    "    # \t-float_number: 실수 값\n",
    "    # Output:\n",
    "    # \t-문자열과 실수 값이 연결된 문자열 값\n",
    "    # Examples:\n",
    "    # \t>>> add_string_number(\"Gachon\", 3)\n",
    "    # \t\"Gachon3\"\n",
    "    # \t>>> add_string_number(\"jiho\",14)\n",
    "    # \t\"jiho14\"\n",
    "    # \"\"\"\n",
    "    # ===Modify codes below=================\n",
    "\n",
    "    result = string+str(float_number)\n",
    "\n",
    "    # ======================================\n",
    "    return result"
   ]
  },
  {
   "cell_type": "code",
   "execution_count": 39,
   "metadata": {},
   "outputs": [
    {
     "data": {
      "text/plain": [
       "'Gachon3'"
      ]
     },
     "execution_count": 39,
     "metadata": {},
     "output_type": "execute_result"
    }
   ],
   "source": [
    "add_string_number(\"Gachon\",3)"
   ]
  },
  {
   "cell_type": "markdown",
   "metadata": {},
   "source": [
    "# 5. string과 string 더하기 - Done"
   ]
  },
  {
   "cell_type": "code",
   "execution_count": 42,
   "metadata": {},
   "outputs": [],
   "source": [
    "def add_string_string(str_1, str_2):\n",
    "    # \"\"\"\n",
    "    # Input:\n",
    "    #   -str_1: 문자열\n",
    "    #   -str_2: 문자열\n",
    "    # Output:\n",
    "    # \t-str: 두 문자열의 연결된 문자열 값\n",
    "    # Examples:\n",
    "    # \t>>> add_string_string(\"3\", \"흐흐흐\")\n",
    "    # \t\"3흐흐흐\"\n",
    "    # \t>>> add_string_string(\"135\", \"45.76\")\n",
    "    # \t\"13545.76\"\n",
    "    # \"\"\"\n",
    "    # ===Modify codes below=================\n",
    "\n",
    "    result = str_1+str_2\n",
    "\n",
    "    # ======================================\n",
    "    return result"
   ]
  },
  {
   "cell_type": "code",
   "execution_count": 43,
   "metadata": {},
   "outputs": [
    {
     "data": {
      "text/plain": [
       "'3흐흐흐'"
      ]
     },
     "execution_count": 43,
     "metadata": {},
     "output_type": "execute_result"
    }
   ],
   "source": [
    "add_string_string(\"3\",\"흐흐흐\")"
   ]
  },
  {
   "cell_type": "markdown",
   "metadata": {},
   "source": [
    "# 6. 사칙연산 - Done"
   ]
  },
  {
   "cell_type": "code",
   "execution_count": 46,
   "metadata": {},
   "outputs": [],
   "source": [
    "def associative_law_add(a, b, c):\n",
    "\n",
    "    # \"\"\"\n",
    "    # <설명>\n",
    "    # 아래의 연산에 결합법칙을 적용해 계산하여라.\n",
    "    # (a + b) + c\n",
    "    #\n",
    "    # Input:\n",
    "    # \t-a, b, c: 실수 값\n",
    "    # Output:\n",
    "    # \t-결합법칙이 적용되어 계산된 실수 값\n",
    "    # Examples:\n",
    "    # \t>>> commutative_law(3, 4, 5)\n",
    "    # \t12\n",
    "    # \"\"\"\n",
    "    # ===Modify codes below=================\n",
    "\n",
    "    result = (a+b)+c\n",
    "\n",
    "    # ======================================\n",
    "\n",
    "    return result"
   ]
  },
  {
   "cell_type": "code",
   "execution_count": 47,
   "metadata": {},
   "outputs": [
    {
     "data": {
      "text/plain": [
       "12"
      ]
     },
     "execution_count": 47,
     "metadata": {},
     "output_type": "execute_result"
    }
   ],
   "source": [
    "associative_law_add(3,4,5)"
   ]
  },
  {
   "cell_type": "markdown",
   "metadata": {},
   "source": [
    "# 7.  associative_law_mutiple(결합법칙) - Done"
   ]
  },
  {
   "cell_type": "code",
   "execution_count": 51,
   "metadata": {},
   "outputs": [],
   "source": [
    "def associative_law_mutiple(a, b, c):\n",
    "\n",
    "    # \"\"\"\n",
    "    # <설명>\n",
    "    #   아래의 연산에 결합법칙을 적용해 계산하여라.\n",
    "    #   (a * b) * c\n",
    "    # Input:\n",
    "    # \t-a, b, c: 실수 값\n",
    "    # Output:\n",
    "    # \t-결합법칙이 적용되어 계산된 실수 값\n",
    "    # Examples:\n",
    "    # \t>>> associative_law_mutiple(3, 4, 5)\n",
    "    # \t60\n",
    "    # \"\"\"\n",
    "    # ===Modify codes below=================\n",
    "\n",
    "    result = (a*b)*c\n",
    "\n",
    "    # ======================================\n",
    "\n",
    "    return result"
   ]
  },
  {
   "cell_type": "code",
   "execution_count": 52,
   "metadata": {},
   "outputs": [
    {
     "data": {
      "text/plain": [
       "60"
      ]
     },
     "execution_count": 52,
     "metadata": {},
     "output_type": "execute_result"
    }
   ],
   "source": [
    "associative_law_mutiple(3,4,5)"
   ]
  },
  {
   "cell_type": "markdown",
   "metadata": {},
   "source": [
    "# 8. distributive_law(분배법칙) - Done"
   ]
  },
  {
   "cell_type": "code",
   "execution_count": 56,
   "metadata": {},
   "outputs": [],
   "source": [
    "def distributive_law(a, b, c):\n",
    "\n",
    "    # \"\"\"\n",
    "    # <설명>\n",
    "    #   아래의 연산에 분배법칙을 적용해 계산하여라.\n",
    "    #   a * (b + c)\n",
    "    # Input:\n",
    "    # \t-a, b, c: 실수 값\n",
    "    # Output:\n",
    "    # \t-분배법칙이 적용되어 계산된 실수 값\n",
    "    # Examples:\n",
    "    # \t>>> distributive_law(3, 4, 5)\n",
    "    # \t27\n",
    "    # \"\"\"\n",
    "    # ===Modify codes below=================\n",
    "    result = a*(b+c)\n",
    "    # ======================================\n",
    "\n",
    "    return result"
   ]
  },
  {
   "cell_type": "code",
   "execution_count": 57,
   "metadata": {},
   "outputs": [
    {
     "data": {
      "text/plain": [
       "27"
      ]
     },
     "execution_count": 57,
     "metadata": {},
     "output_type": "execute_result"
    }
   ],
   "source": [
    "distributive_law(3,4,5)"
   ]
  },
  {
   "cell_type": "markdown",
   "metadata": {},
   "source": [
    "# 9. 지수연산 - Done"
   ]
  },
  {
   "cell_type": "code",
   "execution_count": 62,
   "metadata": {},
   "outputs": [],
   "source": [
    "def exponent(base, power):\n",
    "\n",
    "    # \"\"\"\n",
    "    # <설명>\n",
    "    #   다음의 곱셈연산을 지수연산으로 바꿔 계산하여라.\n",
    "    #   base * base * base * ... * base\n",
    "    # Input:\n",
    "    # \t-base, power: 실수 값\n",
    "    # Output:\n",
    "    # \t-지수연산이 적용되어 계산된 값\n",
    "    # Examples:\n",
    "    # \t>>> exponent(3, 4)\n",
    "    # \t81\n",
    "    # \"\"\"\n",
    "    # ===Modify codes below=================\n",
    "    result = base**power\n",
    "    # ======================================\n",
    "\n",
    "    return result"
   ]
  },
  {
   "cell_type": "code",
   "execution_count": 63,
   "metadata": {},
   "outputs": [
    {
     "data": {
      "text/plain": [
       "81"
      ]
     },
     "execution_count": 63,
     "metadata": {},
     "output_type": "execute_result"
    }
   ],
   "source": [
    "exponent(3,4)"
   ]
  },
  {
   "cell_type": "markdown",
   "metadata": {},
   "source": [
    "# 10. 사칙연산 '모듈' - 이번 기회에 '모듈'이 뭔지 공부"
   ]
  },
  {
   "cell_type": "code",
   "execution_count": 64,
   "metadata": {},
   "outputs": [
    {
     "name": "stdout",
     "output_type": "stream",
     "text": [
      "Str_to_int Test\n",
      "56\n",
      "====>  True\n",
      "Str_to_int Test Closed \n",
      "\n",
      "str_to_float Test\n",
      "8.4501\n",
      "====>  True\n",
      "False\n",
      "Str_to_float Test Closed \n",
      "\n",
      "number_to_str Test\n",
      "56\n",
      "====>  True\n",
      "False\n",
      "number_to_str Test Closed \n",
      "\n",
      "add_string_number Test\n",
      "675\n",
      "False\n",
      "====>  True\n",
      "add_string_number Test Closed \n",
      "\n",
      "add_string_string Test\n",
      "1.41.5\n",
      "False\n",
      "====>  True\n",
      "add_string_string Test Closed \n",
      "\n",
      "associative_law_add Test\n",
      "12\n",
      "False\n",
      "====>  True\n",
      "associative_law_add Test iClosed \n",
      "\n",
      "associative_law_mutiple Test\n",
      "30\n",
      "====>  True\n",
      "associative_law_mutiple Test Closed \n",
      "\n",
      "distributive_law Test\n",
      "60\n",
      "====>  True\n",
      "distributive_law Test Closed \n",
      "\n",
      "Exponent Test\n",
      "243\n",
      "False\n",
      "====>  True\n",
      "Exponent Test Closed \n",
      "\n"
     ]
    }
   ],
   "source": [
    "# 사칙연산==============================================================\n",
    "def associative_law_add(a, b, c):\n",
    "\n",
    "    # \"\"\"\n",
    "    # <설명>\n",
    "    # 아래의 연산에 결합법칙을 적용해 계산하여라.\n",
    "    # (a + b) + c\n",
    "    #\n",
    "    # Input:\n",
    "    # \t-a, b, c: 실수 값\n",
    "    # Output:\n",
    "    # \t-결합법칙이 적용되어 계산된 실수 값\n",
    "    # Examples:\n",
    "    # \t>>> commutative_law(3, 4, 5)\n",
    "    # \t12\n",
    "    # \"\"\"\n",
    "    # ===Modify codes below=================\n",
    "\n",
    "    result = (a+b)+c\n",
    "\n",
    "    # ======================================\n",
    "\n",
    "    return result\n",
    "\n",
    "\n",
    "def associative_law_mutiple(a, b, c):\n",
    "\n",
    "    # \"\"\"\n",
    "    # <설명>\n",
    "    #   아래의 연산에 결합법칙을 적용해 계산하여라.\n",
    "    #   (a * b) * c\n",
    "    # Input:\n",
    "    # \t-a, b, c: 실수 값\n",
    "    # Output:\n",
    "    # \t-결합법칙이 적용되어 계산된 실수 값\n",
    "    # Examples:\n",
    "    # \t>>> associative_law_mutiple(3, 4, 5)\n",
    "    # \t60\n",
    "    # \"\"\"\n",
    "    # ===Modify codes below=================\n",
    "\n",
    "    result = (a*b)*c\n",
    "\n",
    "    # ======================================\n",
    "\n",
    "    return result\n",
    "\n",
    "\n",
    "def distributive_law(a, b, c):\n",
    "\n",
    "    # \"\"\"\n",
    "    # <설명>\n",
    "    #   아래의 연산에 분배법칙을 적용해 계산하여라.\n",
    "    #   a * (b + c)\n",
    "    # Input:\n",
    "    # \t-a, b, c: 실수 값\n",
    "    # Output:\n",
    "    # \t-분배법칙이 적용되어 계산된 실수 값\n",
    "    # Examples:\n",
    "    # \t>>> distributive_law(3, 4, 5)\n",
    "    # \t27\n",
    "    # \"\"\"\n",
    "    # ===Modify codes below=================\n",
    "    result = a*(b+c)\n",
    "    # ======================================\n",
    "\n",
    "    return result\n",
    "\n",
    "\n",
    "# 지수연산=============================================================\n",
    "\n",
    "def exponent(base, power):\n",
    "\n",
    "    # \"\"\"\n",
    "    # <설명>\n",
    "    #   다음의 곱셈연산을 지수연산으로 바꿔 계산하여라.\n",
    "    #   base * base * base * ... * base\n",
    "    # Input:\n",
    "    # \t-base, power: 실수 값\n",
    "    # Output:\n",
    "    # \t-지수연산이 적용되어 계산된 값\n",
    "    # Examples:\n",
    "    # \t>>> exponent(3, 4)\n",
    "    # \t81\n",
    "    # \"\"\"\n",
    "    # ===Modify codes below=================\n",
    "    result = base**power\n",
    "    # ======================================\n",
    "\n",
    "    return result\n",
    "\n",
    "\n",
    "def main():\n",
    "    print(\"Str_to_int Test\")\n",
    "    print(str_to_int(\"56\"))  # Expected Result: 56\n",
    "    print(\"====> \", str_to_int(\"27\") == 27)  # Expected Result: True\n",
    "    print(\"Str_to_int Test Closed \\n\")\n",
    "\n",
    "    print(\"str_to_float Test\")\n",
    "    print(str_to_float(\"8.4501\"))  # Expected Result: 8.4501\n",
    "    print(\"====> \", str_to_float(\"3.4\") == 3.4)  # Expected Result: True\n",
    "    print(str_to_float(\"6.74\") == 9.8)  # Expected Result: False\n",
    "    print(\"Str_to_float Test Closed \\n\")\n",
    "\n",
    "    print(\"number_to_str Test\")\n",
    "    print(number_to_str(56))  # Expected Result: \"56\"\n",
    "    print(\"====> \", number_to_str(4.751) == \"4.751\")  # Expected Result: True\n",
    "    print(number_to_str(3) == \"17\")  # Expected Result: False\n",
    "    print(\"number_to_str Test Closed \\n\")\n",
    "\n",
    "    print(\"add_string_number Test\")\n",
    "    print(add_string_number(\"67\", 5))  # Expected Result: \"675\"\n",
    "    print(add_string_number(\"Gachon\", 4) == 2)  # Expected Result: False\n",
    "    print(\"====> \", add_string_number(\"Gachon\", 15) == \"Gachon15\")\n",
    "    # Expected Result: True\n",
    "    print(\"add_string_number Test Closed \\n\")\n",
    "\n",
    "    print(\"add_string_string Test\")\n",
    "    print(add_string_string(\"1.4\", \"1.5\"))  # Expected Result: \"1.41.5\"\n",
    "    print(add_string_string(\"이길\", \"여\") == 15)  # Expected Result: False\n",
    "    print(\"====> \", add_string_string(\"이길\", \"여\") == \"이길여\") # Expected Result: True\n",
    "    print(\"add_string_string Test Closed \\n\")\n",
    "\n",
    "    print(\"associative_law_add Test\")\n",
    "    print(associative_law_add(3, 5, 4))  # Expected Result: 12\n",
    "    print(associative_law_add(10, 5, 67) == 15)  # Expected Result: False\n",
    "    print(\"====> \", associative_law_add(10, 5, 5) == 20) # Expected Result: True\n",
    "    print(\"associative_law_add Test iClosed \\n\")\n",
    "\n",
    "    print(\"associative_law_mutiple Test\")\n",
    "    print(associative_law_mutiple(3, 5, 2))  # Expected Result: 30\n",
    "    print(\"====> \", associative_law_mutiple(10, 5, 1) == 50)\n",
    "    # Expected Result: True\n",
    "    print(\"associative_law_mutiple Test Closed \\n\")\n",
    "\n",
    "    print(\"distributive_law Test\")\n",
    "    print(distributive_law(6, 7, 3))  # Expected Result: 60\n",
    "    print(\"====> \", distributive_law(2, 4, 1) == 10) # Expected Result: True\n",
    "    print(\"distributive_law Test Closed \\n\")\n",
    "\n",
    "    print(\"Exponent Test\")\n",
    "    print(exponent(3, 5))  # Expected Result: 243\n",
    "    print(exponent(10, 5) == 15)  # Expected Result: False\n",
    "    print(\"====> \", exponent(2, 10) == 1024)  # Expected Result: True\n",
    "    print(\"Exponent Test Closed \\n\")\n",
    "\n",
    "\n",
    "if __name__ == '__main__':\n",
    "    main()"
   ]
  }
 ],
 "metadata": {
  "kernelspec": {
   "display_name": "Python 3",
   "language": "python",
   "name": "python3"
  },
  "language_info": {
   "codemirror_mode": {
    "name": "ipython",
    "version": 3
   },
   "file_extension": ".py",
   "mimetype": "text/x-python",
   "name": "python",
   "nbconvert_exporter": "python",
   "pygments_lexer": "ipython3",
   "version": "3.7.3"
  }
 },
 "nbformat": 4,
 "nbformat_minor": 2
}
